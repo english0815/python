{
 "cells": [
  {
   "cell_type": "code",
   "execution_count": 3,
   "metadata": {},
   "outputs": [
    {
     "name": "stdout",
     "output_type": "stream",
     "text": [
      "=====================\n",
      "Reshape\n",
      "Conv\n",
      "Add\n",
      "Relu\n",
      "MaxPool\n",
      "Conv\n",
      "Add\n",
      "Relu\n",
      "MaxPool\n",
      "Reshape\n",
      "MatMul\n",
      "Add\n",
      "=====================\n",
      "Add\n",
      "MatMul\n",
      "Reshape\n",
      "MaxPool\n",
      "Relu\n",
      "Add\n",
      "Conv\n",
      "MaxPool\n",
      "Relu\n",
      "Add\n",
      "Conv\n",
      "Reshape\n",
      "=====================\n",
      "0 Reshape\n",
      "1 Conv\n",
      "2 Add\n",
      "3 Relu\n",
      "4 MaxPool\n",
      "5 Conv\n",
      "6 Add\n",
      "7 Relu\n",
      "8 MaxPool\n",
      "9 Reshape\n",
      "10 MatMul\n",
      "11 Add\n",
      "=====================\n",
      "Reshape\n",
      "Conv\n",
      "Add\n",
      "Relu\n",
      "MaxPool\n",
      "Conv\n",
      "Add\n",
      "Relu\n",
      "MaxPool\n",
      "Reshape\n",
      "MatMul\n",
      "Add\n"
     ]
    }
   ],
   "source": [
    "#!python3 -m pip install onnx\n",
    "\n",
    "import onnx\n",
    "import os\n",
    "\n",
    "onnx_model = onnx.load('mnist-8.onnx')\n",
    "\n",
    "print(\"=====================\")\n",
    "for i in range(len(onnx_model.graph.node)):\n",
    "    print(onnx_model.graph.node[i].op_type)\n",
    "\n",
    "print(\"=====================\")\n",
    "for i in reversed(range(len(onnx_model.graph.node))):\n",
    "    print(onnx_model.graph.node[i].op_type)\n",
    "    \n",
    "print(\"=====================\")\n",
    "for i, node in enumerate(onnx_model.graph.node):\n",
    "    print(i, node.op_type)\n",
    "\n",
    "print(\"=====================\")\n",
    "for node in onnx_model.graph.node:\n",
    "    print(node.op_type)\n",
    "    \n",
    "#for index, i in \n",
    "#rint(onnx_model.graph.node)"
   ]
  }
 ],
 "metadata": {
  "kernelspec": {
   "display_name": "Python 3",
   "language": "python",
   "name": "python3"
  },
  "language_info": {
   "codemirror_mode": {
    "name": "ipython",
    "version": 3
   },
   "file_extension": ".py",
   "mimetype": "text/x-python",
   "name": "python",
   "nbconvert_exporter": "python",
   "pygments_lexer": "ipython3",
   "version": "3.8.3"
  }
 },
 "nbformat": 4,
 "nbformat_minor": 4
}
